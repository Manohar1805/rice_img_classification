{
  "nbformat": 4,
  "nbformat_minor": 0,
  "metadata": {
    "colab": {
      "provenance": [],
      "mount_file_id": "1MwrIbWBcP977tlbyqtBjxhO57if_G_dS",
      "authorship_tag": "ABX9TyPDihc4PfljLGj3H+kT0Ywd",
      "include_colab_link": true
    },
    "kernelspec": {
      "name": "python3",
      "display_name": "Python 3"
    },
    "language_info": {
      "name": "python"
    },
    "accelerator": "GPU",
    "gpuClass": "standard"
  },
  "cells": [
    {
      "cell_type": "markdown",
      "metadata": {
        "id": "view-in-github",
        "colab_type": "text"
      },
      "source": [
        "<a href=\"https://colab.research.google.com/github/Manohar1805/rice_img_classification/blob/main/rice_datataset.ipynb\" target=\"_parent\"><img src=\"https://colab.research.google.com/assets/colab-badge.svg\" alt=\"Open In Colab\"/></a>"
      ]
    },
    {
      "cell_type": "code",
      "source": [
        "! pip install -q kaggle"
      ],
      "metadata": {
        "id": "TgqcbJIm-1IS"
      },
      "execution_count": null,
      "outputs": []
    },
    {
      "cell_type": "code",
      "source": [
        "from google.colab import files\n",
        "files.upload()"
      ],
      "metadata": {
        "colab": {
          "base_uri": "https://localhost:8080/",
          "height": 92
        },
        "id": "VRKwd-7E_s4f",
        "outputId": "0ee64f77-94b0-45c2-effd-fccf45e4226e"
      },
      "execution_count": null,
      "outputs": [
        {
          "output_type": "display_data",
          "data": {
            "text/plain": [
              "<IPython.core.display.HTML object>"
            ],
            "text/html": [
              "\n",
              "     <input type=\"file\" id=\"files-2a885b3b-e7da-4d93-8f34-e8370e3d5a01\" name=\"files[]\" multiple disabled\n",
              "        style=\"border:none\" />\n",
              "     <output id=\"result-2a885b3b-e7da-4d93-8f34-e8370e3d5a01\">\n",
              "      Upload widget is only available when the cell has been executed in the\n",
              "      current browser session. Please rerun this cell to enable.\n",
              "      </output>\n",
              "      <script>// Copyright 2017 Google LLC\n",
              "//\n",
              "// Licensed under the Apache License, Version 2.0 (the \"License\");\n",
              "// you may not use this file except in compliance with the License.\n",
              "// You may obtain a copy of the License at\n",
              "//\n",
              "//      http://www.apache.org/licenses/LICENSE-2.0\n",
              "//\n",
              "// Unless required by applicable law or agreed to in writing, software\n",
              "// distributed under the License is distributed on an \"AS IS\" BASIS,\n",
              "// WITHOUT WARRANTIES OR CONDITIONS OF ANY KIND, either express or implied.\n",
              "// See the License for the specific language governing permissions and\n",
              "// limitations under the License.\n",
              "\n",
              "/**\n",
              " * @fileoverview Helpers for google.colab Python module.\n",
              " */\n",
              "(function(scope) {\n",
              "function span(text, styleAttributes = {}) {\n",
              "  const element = document.createElement('span');\n",
              "  element.textContent = text;\n",
              "  for (const key of Object.keys(styleAttributes)) {\n",
              "    element.style[key] = styleAttributes[key];\n",
              "  }\n",
              "  return element;\n",
              "}\n",
              "\n",
              "// Max number of bytes which will be uploaded at a time.\n",
              "const MAX_PAYLOAD_SIZE = 100 * 1024;\n",
              "\n",
              "function _uploadFiles(inputId, outputId) {\n",
              "  const steps = uploadFilesStep(inputId, outputId);\n",
              "  const outputElement = document.getElementById(outputId);\n",
              "  // Cache steps on the outputElement to make it available for the next call\n",
              "  // to uploadFilesContinue from Python.\n",
              "  outputElement.steps = steps;\n",
              "\n",
              "  return _uploadFilesContinue(outputId);\n",
              "}\n",
              "\n",
              "// This is roughly an async generator (not supported in the browser yet),\n",
              "// where there are multiple asynchronous steps and the Python side is going\n",
              "// to poll for completion of each step.\n",
              "// This uses a Promise to block the python side on completion of each step,\n",
              "// then passes the result of the previous step as the input to the next step.\n",
              "function _uploadFilesContinue(outputId) {\n",
              "  const outputElement = document.getElementById(outputId);\n",
              "  const steps = outputElement.steps;\n",
              "\n",
              "  const next = steps.next(outputElement.lastPromiseValue);\n",
              "  return Promise.resolve(next.value.promise).then((value) => {\n",
              "    // Cache the last promise value to make it available to the next\n",
              "    // step of the generator.\n",
              "    outputElement.lastPromiseValue = value;\n",
              "    return next.value.response;\n",
              "  });\n",
              "}\n",
              "\n",
              "/**\n",
              " * Generator function which is called between each async step of the upload\n",
              " * process.\n",
              " * @param {string} inputId Element ID of the input file picker element.\n",
              " * @param {string} outputId Element ID of the output display.\n",
              " * @return {!Iterable<!Object>} Iterable of next steps.\n",
              " */\n",
              "function* uploadFilesStep(inputId, outputId) {\n",
              "  const inputElement = document.getElementById(inputId);\n",
              "  inputElement.disabled = false;\n",
              "\n",
              "  const outputElement = document.getElementById(outputId);\n",
              "  outputElement.innerHTML = '';\n",
              "\n",
              "  const pickedPromise = new Promise((resolve) => {\n",
              "    inputElement.addEventListener('change', (e) => {\n",
              "      resolve(e.target.files);\n",
              "    });\n",
              "  });\n",
              "\n",
              "  const cancel = document.createElement('button');\n",
              "  inputElement.parentElement.appendChild(cancel);\n",
              "  cancel.textContent = 'Cancel upload';\n",
              "  const cancelPromise = new Promise((resolve) => {\n",
              "    cancel.onclick = () => {\n",
              "      resolve(null);\n",
              "    };\n",
              "  });\n",
              "\n",
              "  // Wait for the user to pick the files.\n",
              "  const files = yield {\n",
              "    promise: Promise.race([pickedPromise, cancelPromise]),\n",
              "    response: {\n",
              "      action: 'starting',\n",
              "    }\n",
              "  };\n",
              "\n",
              "  cancel.remove();\n",
              "\n",
              "  // Disable the input element since further picks are not allowed.\n",
              "  inputElement.disabled = true;\n",
              "\n",
              "  if (!files) {\n",
              "    return {\n",
              "      response: {\n",
              "        action: 'complete',\n",
              "      }\n",
              "    };\n",
              "  }\n",
              "\n",
              "  for (const file of files) {\n",
              "    const li = document.createElement('li');\n",
              "    li.append(span(file.name, {fontWeight: 'bold'}));\n",
              "    li.append(span(\n",
              "        `(${file.type || 'n/a'}) - ${file.size} bytes, ` +\n",
              "        `last modified: ${\n",
              "            file.lastModifiedDate ? file.lastModifiedDate.toLocaleDateString() :\n",
              "                                    'n/a'} - `));\n",
              "    const percent = span('0% done');\n",
              "    li.appendChild(percent);\n",
              "\n",
              "    outputElement.appendChild(li);\n",
              "\n",
              "    const fileDataPromise = new Promise((resolve) => {\n",
              "      const reader = new FileReader();\n",
              "      reader.onload = (e) => {\n",
              "        resolve(e.target.result);\n",
              "      };\n",
              "      reader.readAsArrayBuffer(file);\n",
              "    });\n",
              "    // Wait for the data to be ready.\n",
              "    let fileData = yield {\n",
              "      promise: fileDataPromise,\n",
              "      response: {\n",
              "        action: 'continue',\n",
              "      }\n",
              "    };\n",
              "\n",
              "    // Use a chunked sending to avoid message size limits. See b/62115660.\n",
              "    let position = 0;\n",
              "    do {\n",
              "      const length = Math.min(fileData.byteLength - position, MAX_PAYLOAD_SIZE);\n",
              "      const chunk = new Uint8Array(fileData, position, length);\n",
              "      position += length;\n",
              "\n",
              "      const base64 = btoa(String.fromCharCode.apply(null, chunk));\n",
              "      yield {\n",
              "        response: {\n",
              "          action: 'append',\n",
              "          file: file.name,\n",
              "          data: base64,\n",
              "        },\n",
              "      };\n",
              "\n",
              "      let percentDone = fileData.byteLength === 0 ?\n",
              "          100 :\n",
              "          Math.round((position / fileData.byteLength) * 100);\n",
              "      percent.textContent = `${percentDone}% done`;\n",
              "\n",
              "    } while (position < fileData.byteLength);\n",
              "  }\n",
              "\n",
              "  // All done.\n",
              "  yield {\n",
              "    response: {\n",
              "      action: 'complete',\n",
              "    }\n",
              "  };\n",
              "}\n",
              "\n",
              "scope.google = scope.google || {};\n",
              "scope.google.colab = scope.google.colab || {};\n",
              "scope.google.colab._files = {\n",
              "  _uploadFiles,\n",
              "  _uploadFilesContinue,\n",
              "};\n",
              "})(self);\n",
              "</script> "
            ]
          },
          "metadata": {}
        },
        {
          "output_type": "stream",
          "name": "stdout",
          "text": [
            "Saving kaggle.json to kaggle (1).json\n"
          ]
        },
        {
          "output_type": "execute_result",
          "data": {
            "text/plain": [
              "{'kaggle.json': b'{\"username\":\"manoharacv\",\"key\":\"de7e335e66ca7b2f31b1b96aba007677\"}'}"
            ]
          },
          "metadata": {},
          "execution_count": 3
        }
      ]
    },
    {
      "cell_type": "code",
      "source": [
        " ! mkdir ~/.kaggle "
      ],
      "metadata": {
        "id": "HikN4qrVAARG"
      },
      "execution_count": null,
      "outputs": []
    },
    {
      "cell_type": "code",
      "source": [
        "! cp kaggle.json ~/.kaggle/"
      ],
      "metadata": {
        "id": "O-pM0cNCBQjQ"
      },
      "execution_count": null,
      "outputs": []
    },
    {
      "cell_type": "code",
      "source": [
        "! chmod 600 ~/.kaggle/kaggle.json"
      ],
      "metadata": {
        "id": "3CRjlhbHBZq0"
      },
      "execution_count": null,
      "outputs": []
    },
    {
      "cell_type": "code",
      "source": [
        " ! kaggle datasets list"
      ],
      "metadata": {
        "colab": {
          "base_uri": "https://localhost:8080/"
        },
        "id": "lMXuQCJFBgvi",
        "outputId": "19bd282d-ab35-4748-980d-1abb166120c8"
      },
      "execution_count": null,
      "outputs": [
        {
          "output_type": "stream",
          "name": "stdout",
          "text": [
            "ref                                                             title                                              size  lastUpdated          downloadCount  voteCount  usabilityRating  \n",
            "--------------------------------------------------------------  ------------------------------------------------  -----  -------------------  -------------  ---------  ---------------  \n",
            "ahsan81/hotel-reservations-classification-dataset               Hotel Reservations Dataset                        480KB  2023-01-04 12:50:31           4136        153  1.0              \n",
            "senapatirajesh/netflix-tv-shows-and-movies                      Latest Netflix TV shows and movies                  1MB  2023-01-14 17:03:12            956         30  0.88235295       \n",
            "thedevastator/global-fossil-co2-emissions-by-country-2002-2022  Emissions by Country, 2002-2022                   621KB  2023-01-02 20:10:36           2000         68  1.0              \n",
            "johnny1994/divorce-rates-data-should-you-get-married            Divorce Rates Data: Should You Get Married?        22KB  2023-01-15 12:49:06            621         27  0.8235294        \n",
            "rakkesharv/spotify-top-10000-streamed-songs                     Spotify Top 10000 Streamed Songs                  280KB  2023-01-02 08:17:15           1817         57  1.0              \n",
            "die9origephit/fifa-world-cup-2022-complete-dataset              Fifa World Cup 2022: Complete Dataset               7KB  2022-12-18 22:51:11           6946        211  1.0              \n",
            "themrityunjaypathak/imdb-top-100-movies                         IMDb Top 100 Movies                                 4KB  2023-01-11 17:15:09            954         33  1.0              \n",
            "thedevastator/tesla-accident-fatalities-analysis-and-statistic  Tesla Deaths                                       18KB  2023-01-02 23:34:23            773         25  1.0              \n",
            "rishikeshkonapure/home-loan-approval                            Home Loan Approval                                 13KB  2023-01-12 06:28:57           1065         27  1.0              \n",
            "ayushnitb/starcraft-players-dataset                             Starcraft Players Dataset - Gamers Analytics      205KB  2023-01-18 23:14:29            211         27  1.0              \n",
            "ruddygunawan/per-capita-income-by-county-2021-vs-education      Per Capita Income by County (2021) vs. Education   89KB  2022-12-28 14:37:42           1349         28  1.0              \n",
            "nguyenthicamlai/population-2022                                 Word Population (1955-2020)                       121KB  2023-01-20 12:01:55            542         27  0.7647059        \n",
            "schmoyote/coffee-reviews-dataset                                Coffee Reviews Dataset                            569KB  2023-01-19 02:25:42            580         24  1.0              \n",
            "thedevastator/state-ut-wise-road-accidents-due-to-driver-viola  Road Accidents due to Driver Violations (India)     2KB  2023-01-06 14:29:20            743         26  1.0              \n",
            "sudhanshuy17/mobilephone                                        MobilePhone's Dataset                             876KB  2023-01-20 14:24:37            790         29  0.88235295       \n",
            "omkargowda/suicide-rates-overview-1985-to-2021                  Suicide Rates Overview (1985 to 2021)             539KB  2023-01-04 15:11:45           1394         56  1.0              \n",
            "gan2gan/1000-imdb-movies-20062016                               1000 IMDB movies (2006-2016)                      134KB  2023-01-17 12:32:25            383         22  1.0              \n",
            "arbazmohammad/world-airports-and-airlines-datasets              Worlds Airports and Airlines Datasets             769KB  2023-01-11 07:39:19            547         27  1.0              \n",
            "ahsan81/used-handheld-device-data                               Used Phones & Tablets Pricing Dataset              77KB  2023-01-07 16:47:53            572         23  1.0              \n",
            "dansbecker/melbourne-housing-snapshot                           Melbourne Housing Snapshot                        451KB  2018-06-05 12:52:24         104868       1198  0.7058824        \n"
          ]
        }
      ]
    },
    {
      "cell_type": "code",
      "source": [
        "!kaggle datasets download -d muratkokludataset/rice-image-dataset"
      ],
      "metadata": {
        "colab": {
          "base_uri": "https://localhost:8080/"
        },
        "id": "V3nPmfA2CAwY",
        "outputId": "48984bf4-f88f-4c85-e876-5d5d486e4abc"
      },
      "execution_count": null,
      "outputs": [
        {
          "output_type": "stream",
          "name": "stdout",
          "text": [
            "Downloading rice-image-dataset.zip to /content\n",
            "100% 219M/219M [00:07<00:00, 38.2MB/s]\n",
            "100% 219M/219M [00:07<00:00, 29.3MB/s]\n"
          ]
        }
      ]
    },
    {
      "cell_type": "code",
      "source": [
        "import zipfile\n",
        "zip_ref=zipfile.ZipFile('/content/drive/MyDrive/datasets/rice-image-dataset.zip','r')\n",
        "zip_ref.extractall()\n",
        "zip_ref.close()"
      ],
      "metadata": {
        "id": "bgv6lmAeOwFo"
      },
      "execution_count": null,
      "outputs": []
    },
    {
      "cell_type": "code",
      "source": [
        "!pip install split-folders"
      ],
      "metadata": {
        "colab": {
          "base_uri": "https://localhost:8080/"
        },
        "id": "K7WJcc2GeT8G",
        "outputId": "ebde6265-b359-4fc7-94e2-13dfeedd36ac"
      },
      "execution_count": null,
      "outputs": [
        {
          "output_type": "stream",
          "name": "stdout",
          "text": [
            "Looking in indexes: https://pypi.org/simple, https://us-python.pkg.dev/colab-wheels/public/simple/\n",
            "Collecting split-folders\n",
            "  Downloading split_folders-0.5.1-py3-none-any.whl (8.4 kB)\n",
            "Installing collected packages: split-folders\n",
            "Successfully installed split-folders-0.5.1\n"
          ]
        }
      ]
    },
    {
      "cell_type": "code",
      "source": [
        "import splitfolders"
      ],
      "metadata": {
        "id": "_ma4Z9MbeT3z"
      },
      "execution_count": null,
      "outputs": []
    },
    {
      "cell_type": "code",
      "source": [
        "splitfolders.ratio('/content/Rice_Image_Dataset',output='/content/2split',seed=42,ratio=(0.8,0.2))"
      ],
      "metadata": {
        "colab": {
          "base_uri": "https://localhost:8080/"
        },
        "id": "Jhmb9om7tlUV",
        "outputId": "864b8ee7-4339-4616-88b1-e16c5394c204"
      },
      "execution_count": null,
      "outputs": [
        {
          "output_type": "stream",
          "name": "stderr",
          "text": [
            "Copying files: 75000 files [00:10, 7393.17 files/s]\n"
          ]
        }
      ]
    },
    {
      "cell_type": "code",
      "source": [
        "\n",
        "import os\n",
        "\n",
        "for dirpath, dirname,filename in os.walk('/content/2split'):\n",
        "  print(f'There are {len(dirname)} folders and {len(filename)} in {dirpath}')"
      ],
      "metadata": {
        "colab": {
          "base_uri": "https://localhost:8080/"
        },
        "id": "FpsnevzDPPja",
        "outputId": "d8d82c43-7118-440c-c49c-9e5a8563bded"
      },
      "execution_count": null,
      "outputs": [
        {
          "output_type": "stream",
          "name": "stdout",
          "text": [
            "There are 2 folders and 0 in /content/2split\n",
            "There are 5 folders and 0 in /content/2split/train\n",
            "There are 0 folders and 12000 in /content/2split/train/Jasmine\n",
            "There are 0 folders and 12000 in /content/2split/train/Basmati\n",
            "There are 0 folders and 12000 in /content/2split/train/Karacadag\n",
            "There are 0 folders and 12000 in /content/2split/train/Ipsala\n",
            "There are 0 folders and 12000 in /content/2split/train/Arborio\n",
            "There are 5 folders and 0 in /content/2split/val\n",
            "There are 0 folders and 3000 in /content/2split/val/Jasmine\n",
            "There are 0 folders and 3000 in /content/2split/val/Basmati\n",
            "There are 0 folders and 3000 in /content/2split/val/Karacadag\n",
            "There are 0 folders and 3000 in /content/2split/val/Ipsala\n",
            "There are 0 folders and 3000 in /content/2split/val/Arborio\n"
          ]
        }
      ]
    },
    {
      "cell_type": "code",
      "source": [
        "import pathlib\n",
        "import numpy as np\n",
        "import random\n",
        "import matplotlib.image as mpimg\n",
        "import matplotlib.pyplot as plt\n"
      ],
      "metadata": {
        "id": "766XxBuHatLu"
      },
      "execution_count": null,
      "outputs": []
    },
    {
      "cell_type": "code",
      "source": [
        "def view_random_img(target_dir,target_class):\n",
        "  target_folder=target_dir+'/'+target_class\n",
        "  random_image=random.sample(os.listdir(target_folder),1)\n",
        "\n",
        "  img=mpimg.imread(target_folder+'/'+random_image[0])\n",
        "  plt.imshow(img)\n",
        "  plt.title(target_class)\n",
        "  plt.axis('off');\n",
        "  print(f\"image shape:{img.shape}\")\n",
        "  return img\n"
      ],
      "metadata": {
        "id": "sEMEldnEeAzl"
      },
      "execution_count": null,
      "outputs": []
    },
    {
      "cell_type": "code",
      "source": [
        "view_random_img('/content/2split/train','Ipsala')"
      ],
      "metadata": {
        "colab": {
          "base_uri": "https://localhost:8080/",
          "height": 1000
        },
        "id": "-U6liX7sjxm4",
        "outputId": "b811c713-b22b-4273-fd34-f2ded1be6b4c"
      },
      "execution_count": null,
      "outputs": [
        {
          "output_type": "stream",
          "name": "stdout",
          "text": [
            "image shape:(250, 250, 3)\n"
          ]
        },
        {
          "output_type": "execute_result",
          "data": {
            "text/plain": [
              "array([[[0, 0, 0],\n",
              "        [0, 0, 0],\n",
              "        [0, 0, 0],\n",
              "        ...,\n",
              "        [0, 0, 0],\n",
              "        [0, 0, 0],\n",
              "        [0, 0, 0]],\n",
              "\n",
              "       [[0, 0, 0],\n",
              "        [0, 0, 0],\n",
              "        [0, 0, 0],\n",
              "        ...,\n",
              "        [0, 0, 0],\n",
              "        [0, 0, 0],\n",
              "        [0, 0, 0]],\n",
              "\n",
              "       [[0, 0, 0],\n",
              "        [0, 0, 0],\n",
              "        [0, 0, 0],\n",
              "        ...,\n",
              "        [0, 0, 0],\n",
              "        [0, 0, 0],\n",
              "        [0, 0, 0]],\n",
              "\n",
              "       ...,\n",
              "\n",
              "       [[0, 0, 0],\n",
              "        [0, 0, 0],\n",
              "        [0, 0, 0],\n",
              "        ...,\n",
              "        [0, 0, 0],\n",
              "        [0, 0, 0],\n",
              "        [0, 0, 0]],\n",
              "\n",
              "       [[0, 0, 0],\n",
              "        [0, 0, 0],\n",
              "        [0, 0, 0],\n",
              "        ...,\n",
              "        [0, 0, 0],\n",
              "        [0, 0, 0],\n",
              "        [0, 0, 0]],\n",
              "\n",
              "       [[0, 0, 0],\n",
              "        [0, 0, 0],\n",
              "        [0, 0, 0],\n",
              "        ...,\n",
              "        [0, 0, 0],\n",
              "        [0, 0, 0],\n",
              "        [0, 0, 0]]], dtype=uint8)"
            ]
          },
          "metadata": {},
          "execution_count": 16
        },
        {
          "output_type": "display_data",
          "data": {
            "text/plain": [
              "<Figure size 432x288 with 1 Axes>"
            ],
            "image/png": "[encoded data removed]"
          },
          "metadata": {
            "needs_background": "light"
          }
        }
      ]
    },
    {
      "cell_type": "code",
      "source": [
        "import tensorflow as tf\n"
      ],
      "metadata": {
        "id": "MlZnPKduk3s3"
      },
      "execution_count": null,
      "outputs": []
    },
    {
      "cell_type": "code",
      "source": [
        "from tensorflow.keras.preprocessing.image import ImageDataGenerator"
      ],
      "metadata": {
        "id": "uogdjM1Ym1NA"
      },
      "execution_count": null,
      "outputs": []
    },
    {
      "cell_type": "code",
      "source": [
        "train_datagen=ImageDataGenerator(rescale=1/255.)\n",
        "test_datagen=ImageDataGenerator(rescale=1/255.)\n",
        "\n",
        "train_dir='/content/2split/train/'\n",
        "test_dir='/content/2split/val/'\n",
        "\n",
        "train_data=train_datagen.flow_from_directory(train_dir,\n",
        "                                             batch_size=256,\n",
        "                                             target_size=(224,224),\n",
        "                                             class_mode='categorical',\n",
        "                                             seed=42)\n",
        "test_data=test_datagen.flow_from_directory(test_dir,\n",
        "                                           batch_size=256,\n",
        "                                           target_size=(224,224),\n",
        "                                           class_mode='categorical')"
      ],
      "metadata": {
        "colab": {
          "base_uri": "https://localhost:8080/"
        },
        "id": "LQTYRVacnOvj",
        "outputId": "e69b8943-7aca-46cc-c015-9a4269e142c4"
      },
      "execution_count": null,
      "outputs": [
        {
          "output_type": "stream",
          "name": "stdout",
          "text": [
            "Found 60000 images belonging to 5 classes.\n",
            "Found 15000 images belonging to 5 classes.\n"
          ]
        }
      ]
    },
    {
      "cell_type": "code",
      "source": [
        "model_1=tf.keras.models.Sequential([\n",
        "    tf.keras.layers.Conv2D(10,3,\n",
        "                           activation='relu',\n",
        "                           input_shape=(224,224,3)),\n",
        "    tf.keras.layers.Conv2D(10,3,activation='relu'),\n",
        "    tf.keras.layers.MaxPool2D(),\n",
        "    tf.keras.layers.Conv2D(10,3,activation='relu'),\n",
        "    tf.keras.layers.Conv2D(10,3,activation='relu'),\n",
        "    tf.keras.layers.MaxPool2D(),\n",
        "    tf.keras.layers.Flatten(),\n",
        "    tf.keras.layers.Dense(5,activation='softmax')\n",
        "])"
      ],
      "metadata": {
        "id": "OV1n6gvtooa3"
      },
      "execution_count": null,
      "outputs": []
    },
    {
      "cell_type": "code",
      "source": [
        "model_1.compile(loss='categorical_crossentropy',\n",
        "                optimizer='adam',\n",
        "                metrics=['accuracy'])"
      ],
      "metadata": {
        "id": "NAJRfGN2rs_f"
      },
      "execution_count": null,
      "outputs": []
    },
    {
      "cell_type": "code",
      "source": [
        "history_1=model_1.fit(train_data,\n",
        "            epochs=5,\n",
        "            steps_per_epoch=len(train_data),\n",
        "            validation_data=test_data,\n",
        "            validation_steps=len(test_data))"
      ],
      "metadata": {
        "colab": {
          "base_uri": "https://localhost:8080/"
        },
        "id": "0rSGwtctsfNm",
        "outputId": "06fa0e21-f32a-42a4-b196-f71eb3fce0bc"
      },
      "execution_count": null,
      "outputs": [
        {
          "output_type": "stream",
          "name": "stdout",
          "text": [
            "Epoch 1/5\n",
            "235/235 [==============================] - 155s 604ms/step - loss: 0.1892 - accuracy: 0.9395 - val_loss: 0.0607 - val_accuracy: 0.9815\n",
            "Epoch 2/5\n",
            "235/235 [==============================] - 137s 582ms/step - loss: 0.0472 - accuracy: 0.9843 - val_loss: 0.0417 - val_accuracy: 0.9869\n",
            "Epoch 3/5\n",
            "235/235 [==============================] - 135s 574ms/step - loss: 0.0394 - accuracy: 0.9869 - val_loss: 0.0362 - val_accuracy: 0.9885\n",
            "Epoch 4/5\n",
            "235/235 [==============================] - 135s 575ms/step - loss: 0.0328 - accuracy: 0.9895 - val_loss: 0.0386 - val_accuracy: 0.9882\n",
            "Epoch 5/5\n",
            "235/235 [==============================] - 137s 582ms/step - loss: 0.0311 - accuracy: 0.9898 - val_loss: 0.0641 - val_accuracy: 0.9778\n"
          ]
        }
      ]
    },
    {
      "cell_type": "code",
      "source": [
        "def plot_loss_curves(history):\n",
        "  \"\"\"\n",
        "  Returns separate loss curves for training and validation metrics.\n",
        "  \"\"\" \n",
        "  loss = history.history['loss']\n",
        "  val_loss = history.history['val_loss']\n",
        "\n",
        "  accuracy = history.history['accuracy']\n",
        "  val_accuracy = history.history['val_accuracy']\n",
        "\n",
        "  epochs = range(len(history.history['loss']))\n",
        "\n",
        "  # Plot loss\n",
        "  plt.plot(epochs, loss, label='training_loss')\n",
        "  plt.plot(epochs, val_loss, label='val_loss')\n",
        "  plt.title('Loss')\n",
        "  plt.xlabel('Epochs')\n",
        "  plt.legend()\n",
        "\n",
        "  # Plot accuracy\n",
        "  plt.figure()\n",
        "  plt.plot(epochs, accuracy, label='training_accuracy')\n",
        "  plt.plot(epochs, val_accuracy, label='val_accuracy')\n",
        "  plt.title('Accuracy')\n",
        "  plt.xlabel('Epochs')\n",
        "  plt.legend();\n",
        "     "
      ],
      "metadata": {
        "id": "4_ku3HQ93L3X"
      },
      "execution_count": null,
      "outputs": []
    },
    {
      "cell_type": "code",
      "source": [
        "plot_loss_curves(history_1)"
      ],
      "metadata": {
        "colab": {
          "base_uri": "https://localhost:8080/",
          "height": 573
        },
        "id": "dAFoF0r54OsZ",
        "outputId": "c4213138-a63c-46d5-a403-fa222df5a5ef"
      },
      "execution_count": null,
      "outputs": [
        {
          "output_type": "display_data",
          "data": {
            "text/plain": [
              "<Figure size 432x288 with 1 Axes>"
            ],
            "image/png": "[encoded data removed]"
          },
          "metadata": {
            "needs_background": "light"
          }
        },
        {
          "output_type": "display_data",
          "data": {
            "text/plain": [
              "<Figure size 432x288 with 1 Axes>"
            ],
            "image/png": "[encoded data removed]"
          },
          "metadata": {
            "needs_background": "light"
          }
        }
      ]
    },
    {
      "cell_type": "code",
      "source": [
        "model_2=tf.keras.models.Sequential([\n",
        "    tf.keras.layers.Conv2D(10,3,\n",
        "                           activation='relu',\n",
        "                           input_shape=(224,224,3)),\n",
        "    tf.keras.layers.Conv2D(10,3,activation='relu'),\n",
        "    tf.keras.layers.MaxPool2D(),\n",
        "    tf.keras.layers.Conv2D(10,3,activation='relu'),\n",
        "    tf.keras.layers.Conv2D(10,3,activation='relu'),\n",
        "    tf.keras.layers.MaxPool2D(),\n",
        "    tf.keras.layers.Flatten(),\n",
        "    tf.keras.layers.Dense(5,activation='softmax')\n",
        "])\n",
        "\n",
        "model_2.compile(loss='categorical_crossentropy',\n",
        "                optimizer=\"RMSprop\",\n",
        "                metrics=['accuracy'])\n",
        "\n",
        "history_2=model_2.fit(train_data,\n",
        "            epochs=5,\n",
        "            steps_per_epoch=len(train_data),\n",
        "            validation_data=test_data,\n",
        "            validation_steps=len(test_data))"
      ],
      "metadata": {
        "colab": {
          "base_uri": "https://localhost:8080/"
        },
        "id": "FRyQTB2R563o",
        "outputId": "d1d3128f-6357-4f21-c663-7ce15ca062d8"
      },
      "execution_count": null,
      "outputs": [
        {
          "output_type": "stream",
          "name": "stdout",
          "text": [
            "Epoch 1/5\n",
            "235/235 [==============================] - 136s 574ms/step - loss: 0.2306 - accuracy: 0.9180 - val_loss: 0.0882 - val_accuracy: 0.9715\n",
            "Epoch 2/5\n",
            "235/235 [==============================] - 133s 567ms/step - loss: 0.0919 - accuracy: 0.9702 - val_loss: 0.0946 - val_accuracy: 0.9671\n",
            "Epoch 3/5\n",
            "235/235 [==============================] - 133s 564ms/step - loss: 0.0729 - accuracy: 0.9761 - val_loss: 0.0791 - val_accuracy: 0.9758\n",
            "Epoch 4/5\n",
            "235/235 [==============================] - 133s 564ms/step - loss: 0.0671 - accuracy: 0.9790 - val_loss: 0.0460 - val_accuracy: 0.9854\n",
            "Epoch 5/5\n",
            "235/235 [==============================] - 132s 562ms/step - loss: 0.0477 - accuracy: 0.9845 - val_loss: 0.0366 - val_accuracy: 0.9891\n"
          ]
        }
      ]
    },
    {
      "cell_type": "code",
      "source": [
        "plot_loss_curves(history_2)"
      ],
      "metadata": {
        "colab": {
          "base_uri": "https://localhost:8080/",
          "height": 573
        },
        "id": "k5FHexb4A-t3",
        "outputId": "324bd876-7306-410a-c24b-61606fcd652b"
      },
      "execution_count": null,
      "outputs": [
        {
          "output_type": "display_data",
          "data": {
            "text/plain": [
              "<Figure size 432x288 with 1 Axes>"
            ],
            "image/png": "[encoded data removed]"
          },
          "metadata": {
            "needs_background": "light"
          }
        },
        {
          "output_type": "display_data",
          "data": {
            "text/plain": [
              "<Figure size 432x288 with 1 Axes>"
            ],
            "image/png": "[encoded data removed]"
          },
          "metadata": {
            "needs_background": "light"
          }
        }
      ]
    },
    {
      "cell_type": "code",
      "source": [
        "import datetime"
      ],
      "metadata": {
        "id": "hbXX-DrCz3mv"
      },
      "execution_count": null,
      "outputs": []
    },
    {
      "cell_type": "code",
      "source": [
        "def create_tensorboard_callback(dir_name,experiment_name):\n",
        "  log_dir= dir_name+'/'+experiment_name+'/'+datetime.datetime.now().strftime('%Y%m%d-%H%M%S')\n",
        "  tensorboard_callback=tf.keras.callbacks.TensorBoard(log_dir=log_dir)\n",
        "  print(f'savings tensorboard log files to : {log_dir}')\n",
        "  return tensorboard_callback"
      ],
      "metadata": {
        "id": "yQVB5tF3zEHi"
      },
      "execution_count": null,
      "outputs": []
    },
    {
      "cell_type": "code",
      "source": [
        "#import tensorflow as tf\n",
        "import tensorflow_hub as hub\n",
        "from tensorflow.keras import layers"
      ],
      "metadata": {
        "id": "S9RvdQXS1x86"
      },
      "execution_count": null,
      "outputs": []
    },
    {
      "cell_type": "code",
      "source": [
        "# Resnet 50 V2 feature vector\n",
        "resnet_url = \"https://tfhub.dev/google/imagenet/resnet_v2_50/feature_vector/4\"\n",
        "\n",
        "# Original: EfficientNetB0 feature vector (version 1)\n",
        "efficientnet_url = \"https://tfhub.dev/tensorflow/efficientnet/b0/feature-vector/1\""
      ],
      "metadata": {
        "id": "H90dsjzt1f7F"
      },
      "execution_count": null,
      "outputs": []
    },
    {
      "cell_type": "code",
      "source": [
        "IMG_SHAPE=(224,224)\n",
        "BATCH_SIZE=32"
      ],
      "metadata": {
        "id": "zhWfmIC03FsU"
      },
      "execution_count": null,
      "outputs": []
    },
    {
      "cell_type": "code",
      "source": [
        "def create_model(model_url,num_classes=10):\n",
        "  feature_extroctor_layer=hub.KerasLayer(model_url,\n",
        "                                         trainable=False,\n",
        "                                         name='feature extraction layer',\n",
        "                                         input_shape=IMG_SHAPE+(3,))\n",
        "  model=tf.keras.Sequential([\n",
        "      feature_extroctor_layer,\n",
        "      layers.Dense(num_classes,activation='softmax',name='output_layer')\n",
        "\n",
        "  ])\n",
        "  return model"
      ],
      "metadata": {
        "id": "iu1yTJJz2LBs"
      },
      "execution_count": null,
      "outputs": []
    },
    {
      "cell_type": "code",
      "source": [
        "def create_model(model_url, num_classes=10):\n",
        "  \"\"\"Takes a TensorFlow Hub URL and creates a Keras Sequential model with it.\n",
        "  \n",
        "  Args:\n",
        "    model_url (str): A TensorFlow Hub feature extraction URL.\n",
        "    num_classes (int): Number of output neurons in output layer,\n",
        "      should be equal to number of target classes, default 10.\n",
        "\n",
        "  Returns:\n",
        "    An uncompiled Keras Sequential model with model_url as feature\n",
        "    extractor layer and Dense output layer with num_classes outputs.\n",
        "  \"\"\"\n",
        "  # Download the pretrained model and save it as a Keras layer\n",
        "  feature_extractor_layer = hub.KerasLayer(model_url,\n",
        "                                           trainable=False, # freeze the underlying patterns\n",
        "                                           name='feature_extraction_layer',\n",
        "                                           input_shape=IMG_SHAPE+(3,)) # define the input image shape\n",
        "  \n",
        "  # Create our own model\n",
        "  model = tf.keras.Sequential([\n",
        "    feature_extractor_layer, # use the feature extraction layer as the base\n",
        "    layers.Dense(num_classes, activation='softmax', name='output_layer') # create our own output layer      \n",
        "  ])\n",
        "\n",
        "  return model"
      ],
      "metadata": {
        "id": "eHEWSoQK40KJ"
      },
      "execution_count": null,
      "outputs": []
    },
    {
      "cell_type": "code",
      "source": [
        "resnet_model=create_model(resnet_url,5)\n",
        "\n"
      ],
      "metadata": {
        "id": "gS6H77124VfL"
      },
      "execution_count": null,
      "outputs": []
    },
    {
      "cell_type": "code",
      "source": [
        "resnet_model.compile(loss='categorical_crossentropy',\n",
        "                     optimizer='adam',\n",
        "                     metrics=['accuracy']\n",
        "                     )"
      ],
      "metadata": {
        "id": "LK3Kv-SK487l"
      },
      "execution_count": null,
      "outputs": []
    },
    {
      "cell_type": "code",
      "source": [
        "\n",
        "resnet_history=resnet_model.fit(train_data,\n",
        "                                epochs=5,\n",
        "                                steps_per_epoch=len(train_data),\n",
        "                                validation_data=test_data,\n",
        "                                validation_steps=len(test_data),\n",
        "                                callbacks=[create_tensorboard_callback(dir_name='tensorflow hub',\n",
        "                                                                       experiment_name='resnet50v2')]\n",
        "                                )"
      ],
      "metadata": {
        "colab": {
          "base_uri": "https://localhost:8080/"
        },
        "id": "LTtmUKO17SEj",
        "outputId": "9043fd85-039f-4b3f-9560-2f1f61c9b0aa"
      },
      "execution_count": null,
      "outputs": [
        {
          "output_type": "stream",
          "name": "stdout",
          "text": [
            "savings tensorboard log files to : tensorflow hub/resnet50v2/20230123-151414\n",
            "Epoch 1/5\n",
            "235/235 [==============================] - 233s 953ms/step - loss: 0.1632 - accuracy: 0.9517 - val_loss: 0.0659 - val_accuracy: 0.9822\n",
            "Epoch 2/5\n",
            "235/235 [==============================] - 217s 922ms/step - loss: 0.0539 - accuracy: 0.9850 - val_loss: 0.0444 - val_accuracy: 0.9872\n",
            "Epoch 3/5\n",
            "235/235 [==============================] - 217s 923ms/step - loss: 0.0411 - accuracy: 0.9885 - val_loss: 0.0370 - val_accuracy: 0.9893\n",
            "Epoch 4/5\n",
            "235/235 [==============================] - 221s 938ms/step - loss: 0.0348 - accuracy: 0.9903 - val_loss: 0.0352 - val_accuracy: 0.9901\n",
            "Epoch 5/5\n",
            "235/235 [==============================] - 217s 924ms/step - loss: 0.0308 - accuracy: 0.9913 - val_loss: 0.0304 - val_accuracy: 0.9912\n"
          ]
        }
      ]
    },
    {
      "cell_type": "code",
      "source": [
        "plot_loss_curves(resnet_history)"
      ],
      "metadata": {
        "colab": {
          "base_uri": "https://localhost:8080/",
          "height": 573
        },
        "id": "Wl8SZBanQ388",
        "outputId": "431972cc-9d87-4084-bb71-c8e206bd36a7"
      },
      "execution_count": null,
      "outputs": [
        {
          "output_type": "display_data",
          "data": {
            "text/plain": [
              "<Figure size 432x288 with 1 Axes>"
            ],
            "image/png": "[encoded data removed]"
          },
          "metadata": {
            "needs_background": "light"
          }
        },
        {
          "output_type": "display_data",
          "data": {
            "text/plain": [
              "<Figure size 432x288 with 1 Axes>"
            ],
            "image/png": "[encoded data removed]"
          },
          "metadata": {
            "needs_background": "light"
          }
        }
      ]
    },
    {
      "cell_type": "code",
      "source": [
        "eff_model=create_model(efficientnet_url,5)\n",
        "\n",
        "eff_model.compile(loss='categorical_crossentropy',\n",
        "                     optimizer='adam',\n",
        "                     metrics=['accuracy']\n",
        "                     )\n",
        "\n",
        "\n",
        "eff_history=eff_model.fit(train_data,\n",
        "                                epochs=5,\n",
        "                                steps_per_epoch=len(train_data),\n",
        "                                validation_data=test_data,\n",
        "                                validation_steps=len(test_data),\n",
        "                                callbacks=[create_tensorboard_callback(dir_name='tensorflow hub',\n",
        "                                                                       experiment_name='effnet')]\n",
        "                                )"
      ],
      "metadata": {
        "colab": {
          "base_uri": "https://localhost:8080/"
        },
        "id": "ubq0lq0Q8qGB",
        "outputId": "d48f55a7-70fd-4a26-b599-0b48b9972447"
      },
      "execution_count": null,
      "outputs": [
        {
          "output_type": "stream",
          "name": "stdout",
          "text": [
            "savings tensorboard log files to : tensorflow hub/effnet/20230123-153539\n",
            "Epoch 1/5\n",
            "235/235 [==============================] - 165s 661ms/step - loss: 0.2707 - accuracy: 0.9479 - val_loss: 0.0877 - val_accuracy: 0.9849\n",
            "Epoch 2/5\n",
            "235/235 [==============================] - 152s 645ms/step - loss: 0.0700 - accuracy: 0.9866 - val_loss: 0.0522 - val_accuracy: 0.9895\n",
            "Epoch 3/5\n",
            "235/235 [==============================] - 152s 646ms/step - loss: 0.0475 - accuracy: 0.9896 - val_loss: 0.0393 - val_accuracy: 0.9915\n",
            "Epoch 4/5\n",
            "235/235 [==============================] - 152s 648ms/step - loss: 0.0373 - accuracy: 0.9917 - val_loss: 0.0320 - val_accuracy: 0.9928\n",
            "Epoch 5/5\n",
            "235/235 [==============================] - 152s 645ms/step - loss: 0.0312 - accuracy: 0.9928 - val_loss: 0.0274 - val_accuracy: 0.9939\n"
          ]
        }
      ]
    },
    {
      "cell_type": "code",
      "source": [
        "plot_loss_curves(eff_history)"
      ],
      "metadata": {
        "colab": {
          "base_uri": "https://localhost:8080/",
          "height": 573
        },
        "id": "6PpcJW5tRH2W",
        "outputId": "f5f66b27-39d7-495e-82a6-71aa98e86a88"
      },
      "execution_count": null,
      "outputs": [
        {
          "output_type": "display_data",
          "data": {
            "text/plain": [
              "<Figure size 432x288 with 1 Axes>"
            ],
            "image/png": "[encoded data removed]"
          },
          "metadata": {
            "needs_background": "light"
          }
        },
        {
          "output_type": "display_data",
          "data": {
            "text/plain": [
              "<Figure size 432x288 with 1 Axes>"
            ],
            "image/png": "[encoded data removed]"
          },
          "metadata": {
            "needs_background": "light"
          }
        }
      ]
    },
    {
      "cell_type": "code",
      "source": [],
      "metadata": {
        "id": "p9fsw1W9UpU6"
      },
      "execution_count": null,
      "outputs": []
    }
  ]
}